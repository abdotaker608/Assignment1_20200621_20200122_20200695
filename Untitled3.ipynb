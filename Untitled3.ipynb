{
  "nbformat": 4,
  "nbformat_minor": 0,
  "metadata": {
    "colab": {
      "provenance": [],
      "authorship_tag": "ABX9TyMODnqOl/esugsAN23ZlL1q",
      "include_colab_link": true
    },
    "kernelspec": {
      "name": "python3",
      "display_name": "Python 3"
    },
    "language_info": {
      "name": "python"
    }
  },
  "cells": [
    {
      "cell_type": "markdown",
      "metadata": {
        "id": "view-in-github",
        "colab_type": "text"
      },
      "source": [
        "<a href=\"https://colab.research.google.com/github/huda510/Assignment1_20200621_20200122_20200695/blob/master/Untitled3.ipynb\" target=\"_parent\"><img src=\"https://colab.research.google.com/assets/colab-badge.svg\" alt=\"Open In Colab\"/></a>"
      ]
    },
    {
      "cell_type": "code",
      "execution_count": 5,
      "metadata": {
        "colab": {
          "base_uri": "https://localhost:8080/",
          "height": 1000
        },
        "id": "eCpAWwg7-dRS",
        "outputId": "8d1f8654-42b7-49b3-e9be-4e75db324906"
      },
      "outputs": [
        {
          "output_type": "stream",
          "name": "stdout",
          "text": [
            "Epoch 1/5\n",
            "1875/1875 [==============================] - 27s 14ms/step - loss: 0.2135 - accuracy: 0.9389 - val_loss: 0.0834 - val_accuracy: 0.9741\n",
            "Epoch 2/5\n",
            "1875/1875 [==============================] - 26s 14ms/step - loss: 0.0779 - accuracy: 0.9773 - val_loss: 0.0611 - val_accuracy: 0.9797\n",
            "Epoch 3/5\n",
            "1875/1875 [==============================] - 27s 14ms/step - loss: 0.0591 - accuracy: 0.9821 - val_loss: 0.0606 - val_accuracy: 0.9801\n",
            "Epoch 4/5\n",
            "1875/1875 [==============================] - 25s 13ms/step - loss: 0.0501 - accuracy: 0.9850 - val_loss: 0.0518 - val_accuracy: 0.9828\n",
            "Epoch 5/5\n",
            "1875/1875 [==============================] - 25s 13ms/step - loss: 0.0418 - accuracy: 0.9874 - val_loss: 0.0555 - val_accuracy: 0.9818\n",
            "Training Accuracy: 0.9901000261306763\n",
            "Testing Accuracy: 0.9818000197410583\n"
          ]
        },
        {
          "output_type": "display_data",
          "data": {
            "text/plain": [
              "<Figure size 1200x600 with 32 Axes>"
            ],
            "image/png": "[encoded data removed]"
          },
          "metadata": {}
        },
        {
          "output_type": "stream",
          "name": "stdout",
          "text": [
            "1/1 [==============================] - 0s 119ms/step\n"
          ]
        },
        {
          "output_type": "display_data",
          "data": {
            "text/plain": [
              "<Figure size 1200x600 with 32 Axes>"
            ],
            "image/png": "[encoded data removed]"
          },
          "metadata": {}
        }
      ],
      "source": [
        "import numpy as np\n",
        "import matplotlib.pyplot as plt\n",
        "from tensorflow.keras.datasets import mnist\n",
        "from tensorflow.keras.models import Sequential\n",
        "from tensorflow.keras.layers import Conv2D, MaxPooling2D, Flatten, Dense\n",
        "import tensorflow as tf\n",
        "\n",
        "# Load the MNIST dataset\n",
        "(x_train, y_train), (x_test, y_test) = mnist.load_data()\n",
        "\n",
        "# Normalize pixel values to be between 0 and 1\n",
        "x_train = x_train / 255.0\n",
        "x_test = x_test / 255.0\n",
        "\n",
        "# Add a channel dimension (for grayscale images)\n",
        "x_train = np.expand_dims(x_train, axis=-1)\n",
        "x_test = np.expand_dims(x_test, axis=-1)\n",
        "\n",
        "# Build the CNN model\n",
        "model = Sequential()\n",
        "model.add(Conv2D(32, (3, 3), activation='relu', input_shape=(28, 28, 1)))\n",
        "model.add(MaxPooling2D((2, 2)))\n",
        "model.add(Flatten())\n",
        "model.add(Dense(10, activation='softmax'))\n",
        "\n",
        "# Compile the model\n",
        "model.compile(optimizer='adam', loss='sparse_categorical_crossentropy', metrics=['accuracy'])\n",
        "\n",
        "# Train the model\n",
        "model.fit(x_train, y_train, epochs=5, batch_size=32, validation_data=(x_test, y_test))\n",
        "\n",
        "# Calculate accuracy on the training set\n",
        "train_loss, train_accuracy = model.evaluate(x_train, y_train, verbose=0)\n",
        "print('Training Accuracy:', train_accuracy)\n",
        "\n",
        "# Calculate accuracy on the testing set\n",
        "test_loss, test_accuracy = model.evaluate(x_test, y_test, verbose=0)\n",
        "print('Testing Accuracy:', test_accuracy)\n",
        "\n",
        "# Show the CNN filters\n",
        "filters = model.layers[0].get_weights()[0]\n",
        "fig, axs = plt.subplots(4, 8, figsize=(12, 6))\n",
        "axs = axs.flatten()\n",
        "for i in range(32):\n",
        "    axs[i].imshow(filters[:, :, 0, i], cmap='gray')\n",
        "    axs[i].axis('off')\n",
        "plt.show()\n",
        "\n",
        "# Show the feature maps\n",
        "layer_outputs = [layer.output for layer in model.layers]\n",
        "activation_model = tf.keras.models.Model(inputs=model.input, outputs=layer_outputs)\n",
        "activations = activation_model.predict(x_test[:1])\n",
        "\n",
        "fig, axs = plt.subplots(4, 8, figsize=(12, 6))\n",
        "axs = axs.flatten()\n",
        "for i in range(32):\n",
        "    axs[i].imshow(activations[0][0, :, :, i], cmap='gray')\n",
        "    axs[i].axis('off')\n",
        "plt.show()"
      ]
    },
    {
      "cell_type": "markdown",
      "source": [],
      "metadata": {
        "id": "8vLFBQpP1YnM"
      }
    },
    {
      "cell_type": "code",
      "source": [],
      "metadata": {
        "id": "pcKEMmxl1Z8T"
      },
      "execution_count": null,
      "outputs": []
    },
    {
      "cell_type": "code",
      "source": [],
      "metadata": {
        "id": "rmkm7BTI-eqb"
      },
      "execution_count": null,
      "outputs": []
    }
  ]
}